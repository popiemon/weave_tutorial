{
 "cells": [
  {
   "cell_type": "markdown",
   "metadata": {},
   "source": [
    "https://weave-docs.wandb.ai/tutorial-tracing_2"
   ]
  },
  {
   "cell_type": "markdown",
   "metadata": {},
   "source": [
    "# Track Application Logic"
   ]
  },
  {
   "cell_type": "code",
   "execution_count": 4,
   "metadata": {},
   "outputs": [],
   "source": [
    "import os\n",
    "from dotenv import load_dotenv\n",
    "\n",
    "load_dotenv()\n",
    "\n",
    "os.environ[\"OPENAI_API_KEY\"] = os.getenv(\"OPENAI_API_KEY\")"
   ]
  },
  {
   "cell_type": "code",
   "execution_count": null,
   "metadata": {},
   "outputs": [],
   "source": [
    "MODEL = \"Ollama\""
   ]
  },
  {
   "cell_type": "code",
   "execution_count": 6,
   "metadata": {},
   "outputs": [
    {
     "name": "stdout",
     "output_type": "stream",
     "text": [
      "{'n_dinosaurs': 3, 'dinosaurs': {'dinosaurs': [{'name': 'Tyrannosaurus rex', 'common_name': 'T. rex', 'diet': 'carnivore'}, {'name': 'Triceratops', 'common_name': 'Trike', 'diet': 'herbivore'}, {'name': 'Brachiosaurus', 'common_name': 'Brachi', 'diet': 'herbivore'}]}}\n"
     ]
    }
   ],
   "source": [
    "import weave\n",
    "import json\n",
    "from openai import OpenAI\n",
    "\n",
    "if MODEL == \"Ollama\":\n",
    "    client = OpenAI(\n",
    "        base_url=os.environ[\"OLLAMA_BASE_URL\"],\n",
    "        api_key=\"ollama\",\n",
    "    )\n",
    "    model_name = os.environ[\"OLLAMA_MODEL\"]\n",
    "elif MODEL == \"OpenAI\":\n",
    "    client = OpenAI()\n",
    "    model_name = \"gpt-4o-mini\"\n",
    "\n",
    "@weave.op()\n",
    "def extract_dinos(sentence: str) -> dict:\n",
    "    response = client.chat.completions.create(\n",
    "        model=model_name,\n",
    "        messages=[\n",
    "            {\n",
    "                \"role\": \"system\",\n",
    "                \"content\": \"\"\"Extract any dinosaur `name`, their `common_name`, \\\n",
    "names and whether its `diet` is a herbivore or carnivore, in JSON format.\"\"\"\n",
    "            },\n",
    "            {\n",
    "                \"role\": \"user\",\n",
    "                \"content\": sentence\n",
    "            }\n",
    "            ],\n",
    "            response_format={ \"type\": \"json_object\" }\n",
    "        )\n",
    "    return response.choices[0].message.content\n",
    "\n",
    "@weave.op()\n",
    "def count_dinos(dino_data: dict) -> int:\n",
    "    # count the number of items in the returned list\n",
    "    k = list(dino_data.keys())[0]\n",
    "    return len(dino_data[k])\n",
    "\n",
    "@weave.op()\n",
    "def dino_tracker(sentence: str) -> dict:\n",
    "    # extract dinosaurs using a LLM\n",
    "    dino_data = extract_dinos(sentence)\n",
    "\n",
    "    # count the number of dinosaurs returned\n",
    "    dino_data = json.loads(dino_data)\n",
    "    n_dinos = count_dinos(dino_data)\n",
    "    return {\"n_dinosaurs\": n_dinos, \"dinosaurs\": dino_data}\n",
    "\n",
    "weave.init('jurassic-park')\n",
    "\n",
    "sentence = \"\"\"I watched as a Tyrannosaurus rex (T. rex) chased after a Triceratops (Trike), \\\n",
    "both carnivore and herbivore locked in an ancient dance. Meanwhile, a gentle giant \\\n",
    "Brachiosaurus (Brachi) calmly munched on treetops, blissfully unaware of the chaos below.\"\"\"\n",
    "\n",
    "result = dino_tracker(sentence)\n",
    "print(result)"
   ]
  }
 ],
 "metadata": {
  "kernelspec": {
   "display_name": ".venv",
   "language": "python",
   "name": "python3"
  },
  "language_info": {
   "codemirror_mode": {
    "name": "ipython",
    "version": 3
   },
   "file_extension": ".py",
   "mimetype": "text/x-python",
   "name": "python",
   "nbconvert_exporter": "python",
   "pygments_lexer": "ipython3",
   "version": "3.13.1"
  }
 },
 "nbformat": 4,
 "nbformat_minor": 2
}
