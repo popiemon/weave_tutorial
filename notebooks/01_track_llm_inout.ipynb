{
 "cells": [
  {
   "cell_type": "markdown",
   "metadata": {},
   "source": [
    "https://weave-docs.wandb.ai/quickstart"
   ]
  },
  {
   "cell_type": "markdown",
   "metadata": {},
   "source": [
    "# Track LLM inputs & outputs"
   ]
  },
  {
   "cell_type": "code",
   "execution_count": 4,
   "metadata": {},
   "outputs": [],
   "source": [
    "import os\n",
    "from dotenv import load_dotenv\n",
    "\n",
    "load_dotenv()\n",
    "\n",
    "os.environ[\"OPENAI_API_KEY\"] = os.getenv(\"OPENAI_API_KEY\")"
   ]
  },
  {
   "cell_type": "code",
   "execution_count": null,
   "metadata": {},
   "outputs": [],
   "source": [
    "MODEL = \"Ollama\""
   ]
  },
  {
   "cell_type": "code",
   "execution_count": 6,
   "metadata": {},
   "outputs": [
    {
     "name": "stdout",
     "output_type": "stream",
     "text": [
      "{\n",
      "  \"dinosaurs\": [\n",
      "    {\n",
      "      \"name\": \"Tyrannosaurus rex\",\n",
      "      \"common_name\": \"T. rex\",\n",
      "      \"diet\": \"carnivore\"\n",
      "    },\n",
      "    {\n",
      "      \"name\": \"Triceratops\",\n",
      "      \"common_name\": \"Trike\",\n",
      "      \"diet\": \"herbivore\"\n",
      "    },\n",
      "    {\n",
      "      \"name\": \"Brachiosaurus\",\n",
      "      \"common_name\": \"Brachi\",\n",
      "      \"diet\": \"herbivore\"\n",
      "    }\n",
      "  ]\n",
      "}\n"
     ]
    }
   ],
   "source": [
    "import weave\n",
    "from openai import OpenAI\n",
    "\n",
    "if MODEL == \"Ollama\":\n",
    "    client = OpenAI(\n",
    "        base_url=os.environ[\"OLLAMA_BASE_URL\"],\n",
    "        api_key=\"ollama\",\n",
    "    )\n",
    "    model_name = os.environ[\"OLLAMA_MODEL\"]\n",
    "elif MODEL == \"OpenAI\":\n",
    "    client = OpenAI()\n",
    "    model_name = \"gpt-4o-mini\"\n",
    "\n",
    "# Weave will track the inputs, outputs and code of this function\n",
    "@weave.op()\n",
    "def extract_dinos(sentence: str) -> dict:\n",
    "    response = client.chat.completions.create(\n",
    "        model=model_name,\n",
    "        messages=[\n",
    "            {\n",
    "                \"role\": \"system\",\n",
    "                \"content\": \"\"\"In JSON format extract a list of `dinosaurs`, with their `name`,\n",
    "their `common_name`, and whether its `diet` is a herbivore or carnivore\"\"\"\n",
    "            },\n",
    "            {\n",
    "                \"role\": \"user\",\n",
    "                \"content\": sentence\n",
    "            }\n",
    "            ],\n",
    "            response_format={ \"type\": \"json_object\" }\n",
    "        )\n",
    "    return response.choices[0].message.content\n",
    "\n",
    "\n",
    "# Initialise the weave project\n",
    "weave.init('jurassic-park')\n",
    "\n",
    "sentence = \"\"\"I watched as a Tyrannosaurus rex (T. rex) chased after a Triceratops (Trike), \\\n",
    "both carnivore and herbivore locked in an ancient dance. Meanwhile, a gentle giant \\\n",
    "Brachiosaurus (Brachi) calmly munched on treetops, blissfully unaware of the chaos below.\"\"\"\n",
    "\n",
    "result = extract_dinos(sentence)\n",
    "print(result)"
   ]
  }
 ],
 "metadata": {
  "kernelspec": {
   "display_name": ".venv",
   "language": "python",
   "name": "python3"
  },
  "language_info": {
   "codemirror_mode": {
    "name": "ipython",
    "version": 3
   },
   "file_extension": ".py",
   "mimetype": "text/x-python",
   "name": "python",
   "nbconvert_exporter": "python",
   "pygments_lexer": "ipython3",
   "version": "3.13.1"
  }
 },
 "nbformat": 4,
 "nbformat_minor": 2
}
